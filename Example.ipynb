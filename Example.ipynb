{
 "cells": [
  {
   "cell_type": "code",
   "execution_count": 1,
   "metadata": {
    "collapsed": false
   },
   "outputs": [],
   "source": [
    "# Start ipynb hpc, install the magics\n",
    "import ipynbhpc\n",
    "\n",
    "#reload(ipynbhpc)\n",
    "ipynbhpc.setup()\n"
   ]
  },
  {
   "cell_type": "code",
   "execution_count": 2,
   "metadata": {
    "collapsed": true
   },
   "outputs": [],
   "source": [
    "# This function can be called inside the qsub magic\n",
    "#\n",
    "def func(x):\n",
    "    return x ** 2"
   ]
  },
  {
   "cell_type": "code",
   "execution_count": 3,
   "metadata": {
    "collapsed": false,
    "scrolled": true
   },
   "outputs": [
    {
     "data": {
      "text/plain": [
       "Application 12308144 resources: utime ~6s, stime ~10s, Rss ~10604, inblocks ~63598, outblocks ~42\n",
       "\n",
       " + --------------------------------------------------------------------------\n",
       " +        Job name: ipynbhpcjob\n",
       " +          Job Id: 2864506.edique02\n",
       " +          System: edison\n",
       " +     Queued Time: Fri May  8 13:26:51 2015\n",
       " +      Start Time: Fri May  8 13:27:14 2015\n",
       " + Completion Time: Fri May  8 13:27:28 2015\n",
       " +            User: yfeng1\n",
       " +        MOM Host: nid00897\n",
       " +           Queue: debug\n",
       " +  Req. Resources: mppnodect=1,mppnppn=24,mppwidth=24,walltime=00:30:00\n",
       " +  Used Resources: cput=00:00:01,energy_used=0,mem=6264kb,vmem=135024kb,walltime=00:00:15\n",
       " +     Acct String: m779\n",
       " +   PBS_O_WORKDIR: /global/u1/y/yfeng1/source/ipynbhpc\n",
       " +     Submit Args:\n",
       " + --------------------------------------------------------------------------\n"
      ]
     },
     "execution_count": 3,
     "metadata": {},
     "output_type": "execute_result"
    }
   ],
   "source": [
    "# Run the cell with a size 24 MPI job!\n",
    "# the out variables on rank 1 will be injected to the notebook.\n",
    "\n",
    "%%qsub size(24) in(func) out(ranks)\n",
    "from mpi4py import MPI\n",
    "\n",
    "comm = MPI.COMM_WORLD\n",
    "\n",
    "# Notice that 'func' is imported from the notebook as an 'in' variable\n",
    "ranks = comm.gather(func(comm.rank))"
   ]
  },
  {
   "cell_type": "code",
   "execution_count": 4,
   "metadata": {
    "collapsed": false
   },
   "outputs": [
    {
     "name": "stdout",
     "output_type": "stream",
     "text": [
      "[0, 1, 4, 9, 16, 25, 36, 49, 64, 81, 100, 121, 144, 169, 196, 225, 256, 289, 324, 361, 400, 441, 484, 529]\n"
     ]
    }
   ],
   "source": [
    "#make sure it happened.\n",
    "print ranks"
   ]
  },
  {
   "cell_type": "code",
   "execution_count": null,
   "metadata": {
    "collapsed": true
   },
   "outputs": [],
   "source": []
  }
 ],
 "metadata": {
  "kernelspec": {
   "display_name": "Python 2",
   "language": "python",
   "name": "python2"
  },
  "language_info": {
   "codemirror_mode": {
    "name": "ipython",
    "version": 2
   },
   "file_extension": ".py",
   "mimetype": "text/x-python",
   "name": "python",
   "nbconvert_exporter": "python",
   "pygments_lexer": "ipython2",
   "version": "2.7.9"
  }
 },
 "nbformat": 4,
 "nbformat_minor": 0
}
