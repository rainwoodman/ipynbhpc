{
 "cells": [
  {
   "cell_type": "code",
   "execution_count": 5,
   "metadata": {
    "collapsed": false
   },
   "outputs": [
    {
     "data": {
      "text/plain": [
       "<module 'ipynbhpc' from 'ipynbhpc/__init__.py'>"
      ]
     },
     "execution_count": 5,
     "metadata": {},
     "output_type": "execute_result"
    }
   ],
   "source": [
    "import ipynbhpc\n",
    "reload(ipynbhpc)"
   ]
  },
  {
   "cell_type": "code",
   "execution_count": 6,
   "metadata": {
    "collapsed": true
   },
   "outputs": [],
   "source": [
    "a, b, c = \"abc\""
   ]
  },
  {
   "cell_type": "code",
   "execution_count": 7,
   "metadata": {
    "collapsed": false,
    "scrolled": true
   },
   "outputs": [
    {
     "data": {
      "text/plain": [
       "'Application 12305585 resources: utime ~0s, stime ~1s, Rss ~9716, inblocks ~2478, outblocks ~40\\n\\n + --------------------------------------------------------------------------\\n +        Job name: ipynbhpcjob\\n +          Job Id: 2863956.edique02\\n +          System: edison\\n +     Queued Time: Fri May  8 12:04:44 2015\\n +      Start Time: Fri May  8 12:05:30 2015\\n + Completion Time: Fri May  8 12:05:50 2015\\n +            User: yfeng1\\n +        MOM Host: nid01280\\n +           Queue: debug\\n +  Req. Resources: mppnodect=1,mppnppn=1,mppwidth=1,walltime=00:30:00\\n +  Used Resources: cput=00:00:00,energy_used=0,mem=0kb,vmem=0kb,walltime=00:00:19\\n +     Acct String: m779\\n +   PBS_O_WORKDIR: /global/u1/y/yfeng1/source/ipynbhpc\\n +     Submit Args:\\n + --------------------------------------------------------------------------\\n\\n'"
      ]
     },
     "execution_count": 7,
     "metadata": {},
     "output_type": "execute_result"
    }
   ],
   "source": [
    "%%qsub size(1) in(a,b,c) out(e,f,g)\n",
    "\n",
    "e = 4\n",
    "f = 2\n",
    "g = 10"
   ]
  },
  {
   "cell_type": "code",
   "execution_count": 4,
   "metadata": {
    "collapsed": false
   },
   "outputs": [
    {
     "data": {
      "text/plain": [
       "4"
      ]
     },
     "execution_count": 4,
     "metadata": {},
     "output_type": "execute_result"
    }
   ],
   "source": [
    "e"
   ]
  },
  {
   "cell_type": "code",
   "execution_count": null,
   "metadata": {
    "collapsed": true
   },
   "outputs": [],
   "source": []
  }
 ],
 "metadata": {
  "kernelspec": {
   "display_name": "Python 2",
   "language": "python",
   "name": "python2"
  },
  "language_info": {
   "codemirror_mode": {
    "name": "ipython",
    "version": 2
   },
   "file_extension": ".py",
   "mimetype": "text/x-python",
   "name": "python",
   "nbconvert_exporter": "python",
   "pygments_lexer": "ipython2",
   "version": "2.7.9"
  }
 },
 "nbformat": 4,
 "nbformat_minor": 0
}
