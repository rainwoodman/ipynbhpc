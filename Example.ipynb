{
 "cells": [
  {
   "cell_type": "code",
   "execution_count": 1,
   "metadata": {
    "collapsed": false
   },
   "outputs": [],
   "source": [
    "# Start ipynb hpc, install the magics\n",
    "import ipynbhpc\n",
    "\n",
    "ipynbhpc.setup()"
   ]
  },
  {
   "cell_type": "code",
   "execution_count": 8,
   "metadata": {
    "collapsed": true
   },
   "outputs": [],
   "source": [
    "?%%mpisetup"
   ]
  },
  {
   "cell_type": "code",
   "execution_count": 2,
   "metadata": {
    "collapsed": false
   },
   "outputs": [],
   "source": [
    "%%mpisetup\n",
    "#PBS -N ipynbhpcjob\n",
    "#PBS -q debug\n",
    "#PBS -l mppwidth=%(jobsize)d\n",
    "#PBS -e %(stderr)s\n",
    "#PBS -o %(stdout)s\n",
    "\n",
    "cd $PBS_O_WORKDIR\n",
    "\n",
    "aprun -n %(jobsize)d python-mpi %(cmdline)s\n"
   ]
  },
  {
   "cell_type": "code",
   "execution_count": 3,
   "metadata": {
    "collapsed": true
   },
   "outputs": [],
   "source": [
    "# This function can be called inside the qsub magic\n",
    "#\n",
    "def func(x):\n",
    "    return x ** 2"
   ]
  },
  {
   "cell_type": "code",
   "execution_count": 4,
   "metadata": {
    "collapsed": false,
    "scrolled": true
   },
   "outputs": [
    {
     "name": "stdout",
     "output_type": "stream",
     "text": [
      "7 Packages\n",
      "PYTHON_MPI_CHROOT:/dev/shm\n",
      "PYTHON_MPI_PKGROOT:/project/projectdirs/m779/python-mpi/usg\n",
      "node nid:6074\n",
      "operating pil-1.1.7.tar.gz: 574663 bytes\n",
      "operating mpi4py-1.3.1.tar.gz: 1285350 bytes\n",
      "operating numpy-1.9.2.tar.gz: 7915764 bytes\n",
      "operating python-2.7.9.tar.gz: 22736220 bytes\n",
      "operating scipy-0.15.1.tar.gz: 38774116 bytes\n",
      "operating fitsio-0.9.7a.tar.gz: 1666710 bytes\n",
      "operating yfeng1-local-05132015.tar.gz: 9949828 bytes\n",
      "Python packages delivered\n",
      "Application 12580508 resources: utime ~162s, stime ~10s, Rss ~45676, inblocks ~983084, outblocks ~1316179\n",
      "\n",
      " + --------------------------------------------------------------------------\n",
      " +        Job name: ipynbhpcjob\n",
      " +          Job Id: 2931273.edique02\n",
      " +          System: edison\n",
      " +     Queued Time: Tue May 19 16:22:33 2015\n",
      " +      Start Time: Tue May 19 16:22:53 2015\n",
      " + Completion Time: Tue May 19 16:23:18 2015\n",
      " +            User: yfeng1\n",
      " +        MOM Host: nid01280\n",
      " +           Queue: debug\n",
      " +  Req. Resources: mppnodect=1,mppnppn=24,mppwidth=24,walltime=00:30:00\n",
      " +  Used Resources: cput=00:00:00,energy_used=0,mem=6272kb,vmem=135024kb,walltime=00:00:27\n",
      " +     Acct String: bids\n",
      " +   PBS_O_WORKDIR: /global/u1/y/yfeng1/source/ipynbhpc\n",
      " +     Submit Args:\n",
      " + --------------------------------------------------------------------------\n",
      "\n"
     ]
    },
    {
     "data": {
      "text/plain": [
       "<ipynbhpc.magics.Result at 0x2aaabece4990>"
      ]
     },
     "execution_count": 4,
     "metadata": {},
     "output_type": "execute_result"
    }
   ],
   "source": [
    "%%mpi size(24) in(func) out(ranks) \n",
    "# Run the cell with a size 24 MPI job!\n",
    "# the out variables on rank 1 will be injected to the notebook.\n",
    "comm = MPI.COMM_WORLD\n",
    "\n",
    "# Notice that 'func' is imported from the notebook as an 'in' variable\n",
    "ranks = comm.gather(func(comm.rank))"
   ]
  },
  {
   "cell_type": "code",
   "execution_count": 5,
   "metadata": {
    "collapsed": false
   },
   "outputs": [
    {
     "name": "stdout",
     "output_type": "stream",
     "text": [
      "[0, 1, 4, 9, 16, 25, 36, 49, 64, 81, 100, 121, 144, 169, 196, 225, 256, 289, 324, 361, 400, 441, 484, 529]\n"
     ]
    }
   ],
   "source": [
    "#make sure it happened.\n",
    "print ranks"
   ]
  },
  {
   "cell_type": "code",
   "execution_count": 7,
   "metadata": {
    "collapsed": false
   },
   "outputs": [
    {
     "name": "stdout",
     "output_type": "stream",
     "text": [
      "7 Packages\n",
      "PYTHON_MPI_CHROOT:/dev/shm\n",
      "PYTHON_MPI_PKGROOT:/project/projectdirs/m779/python-mpi/usg\n",
      "node nid:5189\n",
      "operating pil-1.1.7.tar.gz: 574663 bytes\n",
      "operating mpi4py-1.3.1.tar.gz: 1285350 bytes\n",
      "operating numpy-1.9.2.tar.gz: 7915764 bytes\n",
      "operating python-2.7.9.tar.gz: 22736220 bytes\n",
      "operating scipy-0.15.1.tar.gz: 38774116 bytes\n",
      "operating fitsio-0.9.7a.tar.gz: 1666710 bytes\n",
      "operating yfeng1-local-05132015.tar.gz: 9949828 bytes\n",
      "Python packages delivered\n",
      "Application 12580545 resources: utime ~140s, stime ~10s, Rss ~45676, inblocks ~983014, outblocks ~1315891\n",
      "\n",
      " + --------------------------------------------------------------------------\n",
      " +        Job name: ipynbhpcjob\n",
      " +          Job Id: 2931288.edique02\n",
      " +          System: edison\n",
      " +     Queued Time: Tue May 19 16:24:23 2015\n",
      " +      Start Time: Tue May 19 16:25:04 2015\n",
      " + Completion Time: Tue May 19 16:25:33 2015\n",
      " +            User: yfeng1\n",
      " +        MOM Host: nid02050\n",
      " +           Queue: debug\n",
      " +  Req. Resources: mppnodect=1,mppnppn=24,mppwidth=24,walltime=00:30:00\n",
      " +  Used Resources: cput=00:00:00,energy_used=0,mem=6276kb,vmem=135024kb,walltime=00:00:31\n",
      " +     Acct String: bids\n",
      " +   PBS_O_WORKDIR: /global/u1/y/yfeng1/source/ipynbhpc\n",
      " +     Submit Args:\n",
      " + --------------------------------------------------------------------------\n",
      "\n"
     ]
    },
    {
     "data": {
      "text/plain": [
       "<ipynbhpc.magics.Result at 0x2aaabf3e2810>"
      ]
     },
     "execution_count": 7,
     "metadata": {},
     "output_type": "execute_result"
    }
   ],
   "source": [
    "%%mpi size(24) in(func) out(ranks) \n",
    "# This cell has been interrupted.\n",
    "\n",
    "# Run the cell with a size 24 MPI job!\n",
    "# the out variables on rank 1 will be injected to the notebook.\n",
    "comm = MPI.COMM_WORLD\n",
    "\n",
    "# Notice that 'func' is imported from the notebook as an 'in' variable\n",
    "ranks = comm.gather(func(comm.rank))"
   ]
  }
 ],
 "metadata": {
  "kernelspec": {
   "display_name": "Python 2",
   "language": "python",
   "name": "python2"
  },
  "language_info": {
   "codemirror_mode": {
    "name": "ipython",
    "version": 2
   },
   "file_extension": ".py",
   "mimetype": "text/x-python",
   "name": "python",
   "nbconvert_exporter": "python",
   "pygments_lexer": "ipython2",
   "version": "2.7.9"
  }
 },
 "nbformat": 4,
 "nbformat_minor": 0
}
